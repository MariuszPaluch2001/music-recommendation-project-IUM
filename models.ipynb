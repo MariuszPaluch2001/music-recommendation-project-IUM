{
 "cells": [
  {
   "cell_type": "code",
   "execution_count": null,
   "metadata": {},
   "outputs": [],
   "source": [
    "import pandas as pd\n",
    "import numpy as np\n",
    "from sklearn.neighbors import KNeighborsClassifier"
   ]
  },
  {
   "cell_type": "code",
   "execution_count": null,
   "metadata": {},
   "outputs": [],
   "source": [
    "sessions_df = pd.read_json('data/data_v2/sessions.jsonl')"
   ]
  },
  {
   "cell_type": "code",
   "execution_count": null,
   "metadata": {},
   "outputs": [],
   "source": [
    "sessions_df.dropna(inplace=True)"
   ]
  },
  {
   "cell_type": "code",
   "execution_count": null,
   "metadata": {},
   "outputs": [],
   "source": [
    "tracks_df = pd.read_json('data/data_v2/tracks.jsonl')\n",
    "tracks_df"
   ]
  },
  {
   "cell_type": "code",
   "execution_count": null,
   "metadata": {},
   "outputs": [],
   "source": [
    "tracks_df.shape"
   ]
  },
  {
   "cell_type": "code",
   "execution_count": null,
   "metadata": {},
   "outputs": [],
   "source": [
    "columns = [\"duration_ms\",\t\n",
    "           \"danceability\",\n",
    "           \"energy\",\t\n",
    "           \"key\",\t\n",
    "           \"loudness\",\n",
    "           \"speechiness\",\n",
    "           \"acousticness\",\n",
    "           \"instrumentalness\",\n",
    "           \"liveness\",\t\n",
    "           \"valence\",\n",
    "           \"tempo\"]"
   ]
  },
  {
   "cell_type": "code",
   "execution_count": null,
   "metadata": {},
   "outputs": [],
   "source": [
    "knn = KNeighborsClassifier(n_neighbors = 1)\n",
    "knn.fit(tracks_df[columns], tracks_df[\"id\"])"
   ]
  },
  {
   "cell_type": "code",
   "execution_count": null,
   "metadata": {},
   "outputs": [],
   "source": [
    "counter = 0\n",
    "n_iters = 0\n",
    "for session_id,row in sessions_df.groupby(\"session_id\").first().iterrows():\n",
    "    track = tracks_df[tracks_df['id'] == row['track_id']]\n",
    "    x = track[columns]\n",
    "    preds = knn.kneighbors(x, n_neighbors=20, return_distance=False)\n",
    "    preds = tracks_df.iloc[preds[0]][\"id\"].to_list()\n",
    "    session_tracks = sessions_df[sessions_df['session_id'] == session_id].iloc[1:]['track_id']\n",
    "    session_tracks = session_tracks[session_tracks.notnull()]\n",
    "    n_iters += len(session_tracks)\n",
    "    for track in session_tracks:\n",
    "        if track in preds:\n",
    "            counter += 1\n",
    "\n",
    "print(f\"Accuracy {counter / n_iters * 100 : .2f}%\")"
   ]
  },
  {
   "cell_type": "code",
   "execution_count": null,
   "metadata": {},
   "outputs": [],
   "source": [
    "len(knn.classes_)"
   ]
  }
 ],
 "metadata": {
  "kernelspec": {
   "display_name": "Python 3",
   "language": "python",
   "name": "python3"
  },
  "language_info": {
   "codemirror_mode": {
    "name": "ipython",
    "version": 3
   },
   "file_extension": ".py",
   "mimetype": "text/x-python",
   "name": "python",
   "nbconvert_exporter": "python",
   "pygments_lexer": "ipython3",
   "version": "3.10.6"
  },
  "orig_nbformat": 4
 },
 "nbformat": 4,
 "nbformat_minor": 2
}
