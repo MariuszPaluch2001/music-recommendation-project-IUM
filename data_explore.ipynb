{
 "cells": [
  {
   "cell_type": "code",
   "execution_count": 1,
   "metadata": {},
   "outputs": [],
   "source": [
    "import pandas as pd\n",
    "import matplotlib.pyplot as plt\n",
    "import seaborn as sns"
   ]
  },
  {
   "cell_type": "code",
   "execution_count": 2,
   "metadata": {},
   "outputs": [],
   "source": [
    "artists_df = pd.read_json('data/data_v2/artists.jsonl')\n",
    "sessions_df = pd.read_json('data/data_v2/sessions.jsonl')\n",
    "tracks_df = pd.read_json('data/data_v2/tracks.jsonl')\n",
    "users_df = pd.read_json('data/data_v2/users.jsonl')"
   ]
  },
  {
   "attachments": {},
   "cell_type": "markdown",
   "metadata": {},
   "source": [
    "Sprawdzamy, czy wszystkie dane są prawidłowe. Jeśli nie, to wiersze z śmieciowymi danymi są usuwane."
   ]
  },
  {
   "cell_type": "code",
   "execution_count": null,
   "metadata": {},
   "outputs": [],
   "source": [
    "artists_df.isnull().sum()"
   ]
  },
  {
   "cell_type": "code",
   "execution_count": null,
   "metadata": {},
   "outputs": [],
   "source": [
    "sessions_df.isnull().sum()"
   ]
  },
  {
   "cell_type": "code",
   "execution_count": null,
   "metadata": {},
   "outputs": [],
   "source": [
    "tracks_df.isnull().sum()"
   ]
  },
  {
   "cell_type": "code",
   "execution_count": null,
   "metadata": {},
   "outputs": [],
   "source": [
    "users_df.isnull().sum() "
   ]
  },
  {
   "attachments": {},
   "cell_type": "markdown",
   "metadata": {},
   "source": [
    "Jedynym zbiorem danych gdzie występowały nulle, jest zbiór sesji. Brakujące dane wynikają z pojawiających się reklam w naszym serwisie. Te dane nie będą nam potrzebne, więc je usuwamy."
   ]
  },
  {
   "cell_type": "code",
   "execution_count": null,
   "metadata": {},
   "outputs": [],
   "source": [
    "sessions_df.dropna(inplace=True)"
   ]
  },
  {
   "attachments": {},
   "cell_type": "markdown",
   "metadata": {},
   "source": [
    "Informacje o typach dla kolumn w danych tabelach."
   ]
  },
  {
   "cell_type": "code",
   "execution_count": null,
   "metadata": {},
   "outputs": [],
   "source": [
    "artists_df.info()"
   ]
  },
  {
   "cell_type": "code",
   "execution_count": null,
   "metadata": {},
   "outputs": [],
   "source": [
    "sessions_df.info()"
   ]
  },
  {
   "cell_type": "code",
   "execution_count": null,
   "metadata": {},
   "outputs": [],
   "source": [
    "tracks_df.info()"
   ]
  },
  {
   "cell_type": "code",
   "execution_count": null,
   "metadata": {},
   "outputs": [],
   "source": [
    "users_df.info()"
   ]
  },
  {
   "attachments": {},
   "cell_type": "markdown",
   "metadata": {},
   "source": [
    "Wymiarowość danych."
   ]
  },
  {
   "cell_type": "code",
   "execution_count": null,
   "metadata": {},
   "outputs": [],
   "source": [
    "artists_df.shape"
   ]
  },
  {
   "cell_type": "code",
   "execution_count": null,
   "metadata": {},
   "outputs": [],
   "source": [
    "sessions_df.shape"
   ]
  },
  {
   "cell_type": "code",
   "execution_count": null,
   "metadata": {},
   "outputs": [],
   "source": [
    "tracks_df.shape"
   ]
  },
  {
   "cell_type": "code",
   "execution_count": null,
   "metadata": {},
   "outputs": [],
   "source": [
    "users_df.shape"
   ]
  },
  {
   "attachments": {},
   "cell_type": "markdown",
   "metadata": {},
   "source": [
    "Podgląd do 10 próbek dla wszystkich zbiorów danych."
   ]
  },
  {
   "cell_type": "code",
   "execution_count": null,
   "metadata": {},
   "outputs": [],
   "source": [
    "artists_df.head(10)"
   ]
  },
  {
   "cell_type": "code",
   "execution_count": null,
   "metadata": {},
   "outputs": [],
   "source": [
    "sessions_df.head(10)"
   ]
  },
  {
   "cell_type": "code",
   "execution_count": null,
   "metadata": {},
   "outputs": [],
   "source": [
    "tracks_df.head(10)"
   ]
  },
  {
   "cell_type": "code",
   "execution_count": null,
   "metadata": {},
   "outputs": [],
   "source": [
    "users_df.head(10)"
   ]
  },
  {
   "attachments": {},
   "cell_type": "markdown",
   "metadata": {},
   "source": [
    "Poniżej zamieściłem wykresy z 50 najpopularniejszymi gatunkami wśród artystów i użytkowników."
   ]
  },
  {
   "cell_type": "code",
   "execution_count": null,
   "metadata": {},
   "outputs": [],
   "source": [
    "popular_genres_artists = (artists_df.explode(\"genres\")\n",
    "                            ).value_counts(\"genres\")[:50].iloc[::-1]\n",
    "\n",
    "popular_genres_artists.plot(kind=\"barh\",\n",
    "                            title =\"Most popular artists genres\",\n",
    "                            xlabel=\"Popularity\",\n",
    "                            ylabel=\"Genre\",\n",
    "                            figsize=(10,15))"
   ]
  },
  {
   "cell_type": "code",
   "execution_count": null,
   "metadata": {},
   "outputs": [],
   "source": [
    "popular_genres_users = (users_df.explode(\"favourite_genres\")\n",
    "                          ).value_counts(\"favourite_genres\")[:50].iloc[::-1]\n",
    "\n",
    "popular_genres_users.plot(kind=\"barh\",\n",
    "                          title=\"Most popular users genres\",\n",
    "                          xlabel=\"Popularity\",\n",
    "                          ylabel=\"Genre\", \n",
    "                          figsize=(10,15))"
   ]
  },
  {
   "attachments": {},
   "cell_type": "markdown",
   "metadata": {},
   "source": [
    "Mapa korelacji pomiędzy wybranymi atrybutami dla utworów."
   ]
  },
  {
   "cell_type": "code",
   "execution_count": null,
   "metadata": {},
   "outputs": [],
   "source": [
    "df = tracks_df[[\n",
    "    \"duration_ms\",\n",
    "    \"danceability\", \"energy\", \n",
    "    \"loudness\", \"speechiness\", \"acousticness\", \n",
    "    \"instrumentalness\", \"liveness\" , \"valence\", \n",
    "    \"tempo\"]]\n",
    "\n",
    "f, ax = plt.subplots(figsize=(10, 8))\n",
    "corr = df.corr()\n",
    "sns.heatmap(corr,\n",
    "    cmap=sns.diverging_palette(220, 10, as_cmap=True),\n",
    "    vmin=-1.0, vmax=1.0,\n",
    "    square=True, ax=ax)"
   ]
  },
  {
   "attachments": {},
   "cell_type": "markdown",
   "metadata": {},
   "source": [
    "Mapa korelacji liczonej metodą spearmana."
   ]
  },
  {
   "cell_type": "code",
   "execution_count": null,
   "metadata": {},
   "outputs": [],
   "source": [
    "df = tracks_df.drop(columns=[\n",
    "    \"id\",\n",
    "    \"name\",\n",
    "    \"explicit\",\n",
    "    \"id_artist\",\n",
    "    \"release_date\"\n",
    "])\n",
    "\n",
    "f, ax = plt.subplots(figsize=(10, 8))\n",
    "corr = df.corr(method='spearman')\n",
    "sns.heatmap(corr,\n",
    "    cmap=sns.diverging_palette(220, 10, as_cmap=True),\n",
    "    vmin=-1.0, vmax=1.0,\n",
    "    square=True, ax=ax)"
   ]
  },
  {
   "attachments": {},
   "cell_type": "markdown",
   "metadata": {},
   "source": [
    "Wykres kołowy przedstawiający procent użytkowników premium."
   ]
  },
  {
   "cell_type": "code",
   "execution_count": null,
   "metadata": {},
   "outputs": [],
   "source": [
    "f, ax = plt.subplots(figsize=(10, 8))\n",
    "users_df[\"premium_user\"].value_counts().plot(kind=\"pie\", \n",
    "                                             title=\"User account type\",\n",
    "                                             ax = ax,\n",
    "                                             labels=None,\n",
    "                                             autopct='%1.1f%%',\n",
    "                                             )\n",
    "\n",
    "ax.legend(loc=3, labels=[\"Standard\", \"Premium\"])\n",
    "plt.show()"
   ]
  },
  {
   "attachments": {},
   "cell_type": "markdown",
   "metadata": {},
   "source": [
    "Wykres przedstawiający 30 najczęściej pojawiających się utworów w sesjach."
   ]
  },
  {
   "cell_type": "code",
   "execution_count": null,
   "metadata": {},
   "outputs": [],
   "source": [
    "track_popularity = sessions_df[\n",
    "    sessions_df[\"event_type\"] == \"play\"\n",
    "  ].value_counts(\"track_id\").rename_axis('id').reset_index(name='counts')\n",
    "\n",
    "track_popularity = track_popularity.merge(tracks_df, \n",
    "                       left_on=\"id\", \n",
    "                       right_on=\"id\")[[\"name\", \"counts\"]][:30].iloc[::-1]\n",
    "\n",
    "track_popularity.plot(kind=\"barh\",\n",
    "                        x = \"name\",\n",
    "                        y = \"counts\",\n",
    "                        title=\"Most popular track from sessions\",\n",
    "                        xlabel=\"Popularity\",\n",
    "                        ylabel=\"Title\", \n",
    "                        figsize=(10,15))"
   ]
  },
  {
   "attachments": {},
   "cell_type": "markdown",
   "metadata": {},
   "source": [
    "Sprawdziliśmy jak liczba występień poszczególnych utworów koreluje z atrybutem popularity. Dla aktualnych danych współczynnik korelacji wynosi -0.008789, a więc atrybut nie wydaje się być skorelowany z realną popularnością."
   ]
  },
  {
   "cell_type": "code",
   "execution_count": null,
   "metadata": {},
   "outputs": [],
   "source": [
    "track_popularity = sessions_df[\n",
    "    sessions_df[\"event_type\"] == \"play\"\n",
    "  ].value_counts(\"track_id\").rename_axis('id').reset_index(name='counts')\n",
    "track_popularity = track_popularity.merge(tracks_df, \n",
    "                       left_on=\"id\", \n",
    "                       right_on=\"id\")[[\"popularity\", \"counts\"]]\n",
    "track_popularity.corr()"
   ]
  },
  {
   "attachments": {},
   "cell_type": "markdown",
   "metadata": {},
   "source": [
    "Wykres słupkowy dla utworów powstałych w danym roku."
   ]
  },
  {
   "cell_type": "code",
   "execution_count": null,
   "metadata": {},
   "outputs": [],
   "source": [
    "series = tracks_df[\"release_date\"].map(lambda x: x[:4]).astype({\"release_date\" : int}).value_counts()\n",
    "df = pd.DataFrame()\n",
    "df[\"year\"] = series.index\n",
    "df[\"count\"] = series.values\n",
    "\n",
    "df.sort_values(by=[\"year\"]).plot(\n",
    "    x=\"year\",\n",
    "    y=\"count\",\n",
    "    kind=\"barh\",\n",
    "    legend=None,\n",
    "    figsize=(10,15),\n",
    "    title=\"Tracks per year\",\n",
    "    xlabel=\"count\",\n",
    "    ylabel=\"year\"\n",
    ")"
   ]
  },
  {
   "attachments": {},
   "cell_type": "markdown",
   "metadata": {},
   "source": [
    "Ruch w serwisie z podziałem na dni tygodnia."
   ]
  },
  {
   "cell_type": "code",
   "execution_count": null,
   "metadata": {},
   "outputs": [],
   "source": [
    "series = sessions_df.groupby(\"session_id\").first()[\"timestamp\"].map(lambda x: x.strftime('%A')).value_counts()\n",
    "\n",
    "df = pd.DataFrame()\n",
    "df[\"day\"] = series.index\n",
    "df[\"count\"] = series.values\n",
    "\n",
    "cats = [ 'Monday', 'Tuesday', 'Wednesday', 'Thursday', 'Friday', 'Saturday', 'Sunday']\n",
    "\n",
    "df['day'] = pd.Categorical(df['day'], categories=cats, ordered=True)\n",
    "df.sort_values(by=[\"day\"]).plot(\n",
    "    x=\"day\",\n",
    "    y=\"count\",\n",
    "    kind = \"bar\",\n",
    "    legend=False,\n",
    "    title=\"Number sessions per day.\",\n",
    "    xlabel=\"day\",\n",
    "    ylabel=\"sessions number\"\n",
    ")"
   ]
  },
  {
   "attachments": {},
   "cell_type": "markdown",
   "metadata": {},
   "source": [
    "Testy, czy zmienne niosą informacje o funkcji celu"
   ]
  },
  {
   "cell_type": "code",
   "execution_count": 5,
   "metadata": {},
   "outputs": [],
   "source": [
    "def test_model(model,columns):\n",
    "    counter = 0\n",
    "    for session_id,row in sessions_df.groupby(\"session_id\").first().iterrows():\n",
    "        track = tracks_df[tracks_df['id'] == row['track_id']]\n",
    "        x = track[columns]\n",
    "        preds = model.predict(x)\n",
    "        session_tracks = sessions_df[sessions_df['session_id'] == session_id].iloc[1:]['track_id']\n",
    "        session_tracks = session_tracks[session_tracks.notnull()]\n",
    "        for track in session_tracks:\n",
    "            if track in preds:\n",
    "                counter += 1\n",
    "    return counter\n",
    "        \n",
    "\n",
    "    "
   ]
  },
  {
   "cell_type": "code",
   "execution_count": 6,
   "metadata": {},
   "outputs": [],
   "source": [
    "column_list = ['popularity','duration_ms','explicit','danceability',\n",
    "               'energy','key','loudness','speechiness',\n",
    "                'acousticness', 'liveness','valence','tempo']\n",
    "import random\n",
    "df = pd.DataFrame(-1, index=column_list, columns=column_list)"
   ]
  },
  {
   "cell_type": "code",
   "execution_count": 10,
   "metadata": {},
   "outputs": [],
   "source": [
    "from sklearn.neighbors import KNeighborsClassifier\n",
    "\n",
    "for column1 in column_list:\n",
    "    for column2 in column_list:\n",
    "        if df.at[column1,column2] == -1:\n",
    "            columns = [column1] if column1 == column2 else [column1,column2]\n",
    "            x = tracks_df[columns]\n",
    "            y = tracks_df['id']\n",
    "            knn = KNeighborsClassifier(n_neighbors=20)\n",
    "            knn.fit(x,y)\n",
    "            result = test_model(knn,columns)\n",
    "            df.at[column1,column2] = result\n",
    "            df.at[column2,column1] = result"
   ]
  },
  {
   "cell_type": "code",
   "execution_count": 18,
   "metadata": {},
   "outputs": [
    {
     "data": {
      "image/png": "[encoded data removed]",
      "text/plain": [
       "<Figure size 720x576 with 2 Axes>"
      ]
     },
     "metadata": {
      "needs_background": "light"
     },
     "output_type": "display_data"
    }
   ],
   "source": [
    "f, ax = plt.subplots(figsize=(10, 8))\n",
    "heat = sns.heatmap(df,\n",
    "    cmap=sns.diverging_palette(220, 10, as_cmap=True),\n",
    "    vmin=0, vmax=800.0,\n",
    "    square=True, ax=ax)\n",
    "fig = heat.figure\n",
    "fig.savefig('heatmap.png')"
   ]
  }
 ],
 "metadata": {
  "kernelspec": {
   "display_name": "Python 3",
   "language": "python",
   "name": "python3"
  },
  "language_info": {
   "codemirror_mode": {
    "name": "ipython",
    "version": 3
   },
   "file_extension": ".py",
   "mimetype": "text/x-python",
   "name": "python",
   "nbconvert_exporter": "python",
   "pygments_lexer": "ipython3",
   "version": "3.10.6"
  },
  "orig_nbformat": 4,
  "vscode": {
   "interpreter": {
    "hash": "916dbcbb3f70747c44a77c7bcd40155683ae19c65e1c03b4aa3499c5328201f1"
   }
  }
 },
 "nbformat": 4,
 "nbformat_minor": 2
}
