{
 "cells": [
  {
   "cell_type": "code",
   "execution_count": null,
   "metadata": {},
   "outputs": [],
   "source": [
    "import pandas as pd\n",
    "import matplotlib.pyplot as plt\n",
    "import seaborn as sns"
   ]
  },
  {
   "cell_type": "code",
   "execution_count": null,
   "metadata": {},
   "outputs": [],
   "source": [
    "artists_df = pd.read_json('data/data_v2/artists.jsonl')\n",
    "sessions_df = pd.read_json('data/data_v2/sessions.jsonl')\n",
    "tracks_df = pd.read_json('data/data_v2/tracks.jsonl')\n",
    "users_df = pd.read_json('data/data_v2/users.jsonl')"
   ]
  },
  {
   "attachments": {},
   "cell_type": "markdown",
   "metadata": {},
   "source": [
    "Sprawdzamy, czy wszystkie dane są prawidłowe. Jeśli nie, to wiersze z śmieciowymi danymi są usuwane."
   ]
  },
  {
   "cell_type": "code",
   "execution_count": null,
   "metadata": {},
   "outputs": [],
   "source": [
    "artists_df.isnull().sum()"
   ]
  },
  {
   "cell_type": "code",
   "execution_count": null,
   "metadata": {},
   "outputs": [],
   "source": [
    "sessions_df.isnull().sum()"
   ]
  },
  {
   "cell_type": "code",
   "execution_count": null,
   "metadata": {},
   "outputs": [],
   "source": [
    "tracks_df.isnull().sum()"
   ]
  },
  {
   "cell_type": "code",
   "execution_count": null,
   "metadata": {},
   "outputs": [],
   "source": [
    "users_df.isnull().sum() "
   ]
  },
  {
   "attachments": {},
   "cell_type": "markdown",
   "metadata": {},
   "source": [
    "Jedynym zbiorem danych gdzie występowały nulle, jest zbiór sesji. Brakujące dane wynikają z pojawiających się reklam w naszym serwisie. Te dane nie będą nam potrzebne, więc je usuwamy."
   ]
  },
  {
   "cell_type": "code",
   "execution_count": null,
   "metadata": {},
   "outputs": [],
   "source": [
    "sessions_df.dropna(inplace=True)"
   ]
  },
  {
   "attachments": {},
   "cell_type": "markdown",
   "metadata": {},
   "source": [
    "Informacje o typach dla kolumn w danych tabelach."
   ]
  },
  {
   "cell_type": "code",
   "execution_count": null,
   "metadata": {},
   "outputs": [],
   "source": [
    "artists_df.info()"
   ]
  },
  {
   "cell_type": "code",
   "execution_count": null,
   "metadata": {},
   "outputs": [],
   "source": [
    "sessions_df.info()"
   ]
  },
  {
   "cell_type": "code",
   "execution_count": null,
   "metadata": {},
   "outputs": [],
   "source": [
    "tracks_df.info()"
   ]
  },
  {
   "cell_type": "code",
   "execution_count": null,
   "metadata": {},
   "outputs": [],
   "source": [
    "users_df.info()"
   ]
  },
  {
   "attachments": {},
   "cell_type": "markdown",
   "metadata": {},
   "source": [
    "Wymiarowość danych."
   ]
  },
  {
   "cell_type": "code",
   "execution_count": null,
   "metadata": {},
   "outputs": [],
   "source": [
    "artists_df.shape"
   ]
  },
  {
   "cell_type": "code",
   "execution_count": null,
   "metadata": {},
   "outputs": [],
   "source": [
    "sessions_df.shape"
   ]
  },
  {
   "cell_type": "code",
   "execution_count": null,
   "metadata": {},
   "outputs": [],
   "source": [
    "tracks_df.shape"
   ]
  },
  {
   "cell_type": "code",
   "execution_count": null,
   "metadata": {},
   "outputs": [],
   "source": [
    "users_df.shape"
   ]
  },
  {
   "attachments": {},
   "cell_type": "markdown",
   "metadata": {},
   "source": [
    "Podgląd do 10 próbek dla wszystkich zbiorów danych."
   ]
  },
  {
   "cell_type": "code",
   "execution_count": null,
   "metadata": {},
   "outputs": [],
   "source": [
    "artists_df.head(10)"
   ]
  },
  {
   "cell_type": "code",
   "execution_count": null,
   "metadata": {},
   "outputs": [],
   "source": [
    "sessions_df.head(10)"
   ]
  },
  {
   "cell_type": "code",
   "execution_count": null,
   "metadata": {},
   "outputs": [],
   "source": [
    "tracks_df.head(10)"
   ]
  },
  {
   "cell_type": "code",
   "execution_count": null,
   "metadata": {},
   "outputs": [],
   "source": [
    "users_df.head(10)"
   ]
  },
  {
   "attachments": {},
   "cell_type": "markdown",
   "metadata": {},
   "source": [
    "Poniżej zamieściłem wykresy z 50 najpopularniejszymi gatunkami wśród artystów i użytkowników."
   ]
  },
  {
   "cell_type": "code",
   "execution_count": null,
   "metadata": {},
   "outputs": [],
   "source": [
    "popular_genres_artists = (artists_df.explode(\"genres\")\n",
    "                            ).value_counts(\"genres\")[:50].iloc[::-1]\n",
    "\n",
    "popular_genres_artists.plot(kind=\"barh\",\n",
    "                            title =\"Most popular artists genres\",\n",
    "                            xlabel=\"Popularity\",\n",
    "                            ylabel=\"Genre\",\n",
    "                            figsize=(10,15))"
   ]
  },
  {
   "cell_type": "code",
   "execution_count": null,
   "metadata": {},
   "outputs": [],
   "source": [
    "popular_genres_users = (users_df.explode(\"favourite_genres\")\n",
    "                          ).value_counts(\"favourite_genres\")[:50].iloc[::-1]\n",
    "\n",
    "popular_genres_users.plot(kind=\"barh\",\n",
    "                          title=\"Most popular users genres\",\n",
    "                          xlabel=\"Popularity\",\n",
    "                          ylabel=\"Genre\", \n",
    "                          figsize=(10,15))"
   ]
  },
  {
   "attachments": {},
   "cell_type": "markdown",
   "metadata": {},
   "source": [
    "Mapa korelacji pomiędzy wybranymi atrybutami dla utworów."
   ]
  },
  {
   "cell_type": "code",
   "execution_count": null,
   "metadata": {},
   "outputs": [],
   "source": [
    "df = tracks_df[[\n",
    "    \"duration_ms\",\n",
    "    \"danceability\", \"energy\", \n",
    "    \"loudness\", \"speechiness\", \"acousticness\", \n",
    "    \"instrumentalness\", \"liveness\" , \"valence\", \n",
    "    \"tempo\"]]\n",
    "\n",
    "f, ax = plt.subplots(figsize=(10, 8))\n",
    "corr = df.corr()\n",
    "sns.heatmap(corr,\n",
    "    cmap=sns.diverging_palette(220, 10, as_cmap=True),\n",
    "    vmin=-1.0, vmax=1.0,\n",
    "    square=True, ax=ax)"
   ]
  },
  {
   "attachments": {},
   "cell_type": "markdown",
   "metadata": {},
   "source": [
    "Mapa korelacji liczonej metodą spearmana."
   ]
  },
  {
   "cell_type": "code",
   "execution_count": null,
   "metadata": {},
   "outputs": [],
   "source": [
    "df = tracks_df.drop(columns=[\n",
    "    \"id\",\n",
    "    \"name\",\n",
    "    \"explicit\",\n",
    "    \"id_artist\",\n",
    "    \"release_date\"\n",
    "])\n",
    "\n",
    "f, ax = plt.subplots(figsize=(10, 8))\n",
    "corr = df.corr(method='spearman')\n",
    "sns.heatmap(corr,\n",
    "    cmap=sns.diverging_palette(220, 10, as_cmap=True),\n",
    "    vmin=-1.0, vmax=1.0,\n",
    "    square=True, ax=ax)"
   ]
  },
  {
   "attachments": {},
   "cell_type": "markdown",
   "metadata": {},
   "source": [
    "Wykres kołowy przedstawiający procent użytkowników premium."
   ]
  },
  {
   "cell_type": "code",
   "execution_count": null,
   "metadata": {},
   "outputs": [],
   "source": [
    "f, ax = plt.subplots(figsize=(10, 8))\n",
    "users_df[\"premium_user\"].value_counts().plot(kind=\"pie\", \n",
    "                                             title=\"User account type\",\n",
    "                                             ax = ax,\n",
    "                                             labels=None,\n",
    "                                             autopct='%1.1f%%',\n",
    "                                             )\n",
    "\n",
    "ax.legend(loc=3, labels=[\"Standard\", \"Premium\"])\n",
    "plt.show()"
   ]
  },
  {
   "attachments": {},
   "cell_type": "markdown",
   "metadata": {},
   "source": [
    "Wykres przedstawiający 30 najczęściej pojawiających się utworów w sesjach."
   ]
  },
  {
   "cell_type": "code",
   "execution_count": null,
   "metadata": {},
   "outputs": [],
   "source": [
    "track_popularity = sessions_df[\n",
    "    sessions_df[\"event_type\"] == \"play\"\n",
    "  ].value_counts(\"track_id\").rename_axis('id').reset_index(name='counts')\n",
    "\n",
    "track_popularity = track_popularity.merge(tracks_df, \n",
    "                       left_on=\"id\", \n",
    "                       right_on=\"id\")[[\"name\", \"counts\"]][:30].iloc[::-1]\n",
    "\n",
    "track_popularity.plot(kind=\"barh\",\n",
    "                        x = \"name\",\n",
    "                        y = \"counts\",\n",
    "                        title=\"Most popular track from sessions\",\n",
    "                        xlabel=\"Popularity\",\n",
    "                        ylabel=\"Title\", \n",
    "                        figsize=(10,15))"
   ]
  },
  {
   "attachments": {},
   "cell_type": "markdown",
   "metadata": {},
   "source": [
    "Wykres słupkowy dla utworów powstałych w danym roku."
   ]
  },
  {
   "cell_type": "code",
   "execution_count": null,
   "metadata": {},
   "outputs": [],
   "source": [
    "series = tracks_df[\"release_date\"].map(lambda x: x[:4]).astype({\"release_date\" : int}).value_counts()\n",
    "df = pd.DataFrame()\n",
    "df[\"year\"] = series.index\n",
    "df[\"count\"] = series.values\n",
    "\n",
    "df.sort_values(by=[\"year\"]).plot(\n",
    "    x=\"year\",\n",
    "    y=\"count\",\n",
    "    kind=\"barh\",\n",
    "    legend=None,\n",
    "    figsize=(10,15),\n",
    "    title=\"Tracks per year\",\n",
    "    xlabel=\"count\",\n",
    "    ylabel=\"year\"\n",
    ")"
   ]
  },
  {
   "attachments": {},
   "cell_type": "markdown",
   "metadata": {},
   "source": [
    "Ruch w serwisie z podziałem na dni tygodnia."
   ]
  },
  {
   "cell_type": "code",
   "execution_count": null,
   "metadata": {},
   "outputs": [],
   "source": [
    "series = sessions_df.groupby(\"session_id\").first()[\"timestamp\"].map(lambda x: x.strftime('%A')).value_counts()\n",
    "\n",
    "df = pd.DataFrame()\n",
    "df[\"day\"] = series.index\n",
    "df[\"count\"] = series.values\n",
    "\n",
    "cats = [ 'Monday', 'Tuesday', 'Wednesday', 'Thursday', 'Friday', 'Saturday', 'Sunday']\n",
    "\n",
    "df['day'] = pd.Categorical(df['day'], categories=cats, ordered=True)\n",
    "df.sort_values(by=[\"day\"]).plot(\n",
    "    x=\"day\",\n",
    "    y=\"count\",\n",
    "    kind = \"bar\",\n",
    "    legend=False,\n",
    "    title=\"Number sessions per day.\",\n",
    "    xlabel=\"day\",\n",
    "    ylabel=\"sessions number\"\n",
    ")"
   ]
  }
 ],
 "metadata": {
  "kernelspec": {
   "display_name": "Python 3",
   "language": "python",
   "name": "python3"
  },
  "language_info": {
   "codemirror_mode": {
    "name": "ipython",
    "version": 3
   },
   "file_extension": ".py",
   "mimetype": "text/x-python",
   "name": "python",
   "nbconvert_exporter": "python",
   "pygments_lexer": "ipython3",
   "version": "3.10.6"
  },
  "orig_nbformat": 4,
  "vscode": {
   "interpreter": {
    "hash": "916dbcbb3f70747c44a77c7bcd40155683ae19c65e1c03b4aa3499c5328201f1"
   }
  }
 },
 "nbformat": 4,
 "nbformat_minor": 2
}
