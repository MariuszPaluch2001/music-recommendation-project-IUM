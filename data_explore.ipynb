{
 "cells": [
  {
   "cell_type": "code",
   "execution_count": null,
   "metadata": {},
   "outputs": [],
   "source": [
    "import pandas as pd\n",
    "import matplotlib.pyplot as plt\n",
    "import seaborn as sns"
   ]
  },
  {
   "cell_type": "code",
   "execution_count": null,
   "metadata": {},
   "outputs": [],
   "source": [
    "artists_df = pd.read_json('data/data_v2/artists.jsonl')\n",
    "sessions_df = pd.read_json('data/data_v2/sessions.jsonl')\n",
    "tracks_df = pd.read_json('data/data_v2/tracks.jsonl')\n",
    "users_df = pd.read_json('data/data_v2/users.jsonl')"
   ]
  },
  {
   "cell_type": "code",
   "execution_count": null,
   "metadata": {},
   "outputs": [],
   "source": [
    "artists_df.isnull().sum()"
   ]
  },
  {
   "cell_type": "code",
   "execution_count": null,
   "metadata": {},
   "outputs": [],
   "source": [
    "sessions_df.isnull().sum()"
   ]
  },
  {
   "cell_type": "code",
   "execution_count": null,
   "metadata": {},
   "outputs": [],
   "source": [
    "tracks_df.isnull().sum()"
   ]
  },
  {
   "cell_type": "code",
   "execution_count": null,
   "metadata": {},
   "outputs": [],
   "source": [
    "users_df.isnull().sum()"
   ]
  },
  {
   "cell_type": "code",
   "execution_count": null,
   "metadata": {},
   "outputs": [],
   "source": [
    "sessions_df.dropna(inplace=True)"
   ]
  },
  {
   "cell_type": "code",
   "execution_count": null,
   "metadata": {},
   "outputs": [],
   "source": [
    "artists_df.info()"
   ]
  },
  {
   "cell_type": "code",
   "execution_count": null,
   "metadata": {},
   "outputs": [],
   "source": [
    "sessions_df.info()"
   ]
  },
  {
   "cell_type": "code",
   "execution_count": null,
   "metadata": {},
   "outputs": [],
   "source": [
    "tracks_df.info()"
   ]
  },
  {
   "cell_type": "code",
   "execution_count": null,
   "metadata": {},
   "outputs": [],
   "source": [
    "users_df.info()"
   ]
  },
  {
   "cell_type": "code",
   "execution_count": null,
   "metadata": {},
   "outputs": [],
   "source": [
    "artists_df.shape"
   ]
  },
  {
   "cell_type": "code",
   "execution_count": null,
   "metadata": {},
   "outputs": [],
   "source": [
    "sessions_df.shape"
   ]
  },
  {
   "cell_type": "code",
   "execution_count": null,
   "metadata": {},
   "outputs": [],
   "source": [
    "tracks_df.shape"
   ]
  },
  {
   "cell_type": "code",
   "execution_count": null,
   "metadata": {},
   "outputs": [],
   "source": [
    "users_df.shape"
   ]
  },
  {
   "cell_type": "code",
   "execution_count": null,
   "metadata": {},
   "outputs": [],
   "source": [
    "artists_df.head(10)"
   ]
  },
  {
   "cell_type": "code",
   "execution_count": null,
   "metadata": {},
   "outputs": [],
   "source": [
    "sessions_df.head(10)"
   ]
  },
  {
   "cell_type": "code",
   "execution_count": null,
   "metadata": {},
   "outputs": [],
   "source": [
    "tracks_df.head(10)"
   ]
  },
  {
   "cell_type": "code",
   "execution_count": null,
   "metadata": {},
   "outputs": [],
   "source": [
    "users_df.head(10)"
   ]
  },
  {
   "attachments": {},
   "cell_type": "markdown",
   "metadata": {},
   "source": [
    "Poniżej zamieściłem wykresy z 50 najpopularniejszymi gatunkami wśród artystów i użytkowników."
   ]
  },
  {
   "cell_type": "code",
   "execution_count": null,
   "metadata": {},
   "outputs": [],
   "source": [
    "popular_genres_artists = (artists_df.explode(\"genres\")\n",
    "                            ).value_counts(\"genres\")[:50].iloc[::-1]\n",
    "popular_genres_artists.plot(kind=\"barh\",\n",
    "                            title =\"Most popular artists genres\",\n",
    "                            xlabel=\"Popularity\",\n",
    "                            ylabel=\"Genre\",\n",
    "                            figsize=(10,15))"
   ]
  },
  {
   "cell_type": "code",
   "execution_count": null,
   "metadata": {},
   "outputs": [],
   "source": [
    "popular_genres_users = (users_df.explode(\"favourite_genres\")\n",
    "                          ).value_counts(\"favourite_genres\")[:50].iloc[::-1]\n",
    "popular_genres_users.plot(kind=\"barh\",\n",
    "                          title=\"Most popular users genres\",\n",
    "                          xlabel=\"Popularity\",\n",
    "                          ylabel=\"Genre\", \n",
    "                          figsize=(10,15))"
   ]
  },
  {
   "attachments": {},
   "cell_type": "markdown",
   "metadata": {},
   "source": [
    "Mapa korelacji pomiędzy wybranymi atrybutami dla utworów."
   ]
  },
  {
   "cell_type": "code",
   "execution_count": null,
   "metadata": {},
   "outputs": [],
   "source": [
    "df = tracks_df[[\n",
    "    \"popularity\",\"duration_ms\", \"explicit\",\n",
    "    \"danceability\", \"energy\", \"key\", \n",
    "    \"loudness\", \"speechiness\", \"acousticness\", \n",
    "    \"instrumentalness\", \"liveness\" , \"valence\", \n",
    "    \"tempo\"]]\n",
    "\n",
    "f, ax = plt.subplots(figsize=(10, 8))\n",
    "corr = df.corr()\n",
    "sns.heatmap(corr,\n",
    "    cmap=sns.diverging_palette(220, 10, as_cmap=True),\n",
    "    vmin=-1.0, vmax=1.0,\n",
    "    square=True, ax=ax)"
   ]
  },
  {
   "cell_type": "code",
   "execution_count": null,
   "metadata": {},
   "outputs": [],
   "source": [
    "df = pd.merge(sessions_df.mask(sessions_df.eq('None')).dropna(), tracks_df.mask(tracks_df.eq('None')).dropna(), how='inner', left_on = 'track_id', right_on = 'id')"
   ]
  },
  {
   "cell_type": "code",
   "execution_count": null,
   "metadata": {},
   "outputs": [],
   "source": [
    "df.head(10)"
   ]
  },
  {
   "cell_type": "code",
   "execution_count": null,
   "metadata": {},
   "outputs": [],
   "source": [
    "user_track = pd.merge(sessions_df.mask(sessions_df.eq('None')).dropna(), tracks_df.mask(tracks_df.eq('None')).dropna(), how='inner', left_on = 'track_id', right_on = 'id')\n",
    "user_track = pd.merge(user_track, users_df, how='inner', left_on = 'user_id', right_on = 'user_id')\n",
    "user_track.drop([\"session_id\",\"user_id\",\"id\",\"track_id\",\"id_artist\",\"street\"],axis=1,inplace=True)\n",
    "user_track.rename(columns={\"name_x\": \"track_name\", \"name_y\": \"user_name\"}, inplace=True)"
   ]
  },
  {
   "cell_type": "code",
   "execution_count": null,
   "metadata": {},
   "outputs": [],
   "source": [
    "user_track"
   ]
  }
 ],
 "metadata": {
  "kernelspec": {
   "display_name": "Python 3",
   "language": "python",
   "name": "python3"
  },
  "language_info": {
   "codemirror_mode": {
    "name": "ipython",
    "version": 3
   },
   "file_extension": ".py",
   "mimetype": "text/x-python",
   "name": "python",
   "nbconvert_exporter": "python",
   "pygments_lexer": "ipython3",
   "version": "3.10.6"
  },
  "orig_nbformat": 4,
  "vscode": {
   "interpreter": {
    "hash": "916dbcbb3f70747c44a77c7bcd40155683ae19c65e1c03b4aa3499c5328201f1"
   }
  }
 },
 "nbformat": 4,
 "nbformat_minor": 2
}
